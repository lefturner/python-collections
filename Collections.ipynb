{
 "cells": [
  {
   "cell_type": "markdown",
   "metadata": {},
   "source": [
    "# Lists as Queues and Stacks\n",
    "\n",
    "Because lists are ordered, we can use them as queues and stacks."
   ]
  },
  {
   "cell_type": "code",
   "execution_count": 53,
   "metadata": {},
   "outputs": [
    {
     "name": "stdout",
     "output_type": "stream",
     "text": [
      "Serving Driver 1 now\n",
      "Serving Driver 2 now\n",
      "Serving Driver 3 now\n"
     ]
    }
   ],
   "source": [
    "# Queue - First In First Out (FIFO)\n",
    "# Think of British people saying \"queueing\" instead of \"lining up\"\n",
    "\n",
    "# Useful for situations where you need to process things in the order they were received.\n",
    "\n",
    "# This is like a line at a drive thru\n",
    "drive_thru_line = []\n",
    "drive_thru_line.append('Driver 1')\n",
    "drive_thru_line.append('Driver 2')\n",
    "drive_thru_line.append('Driver 3')\n",
    "\n",
    "for driver in drive_thru_line:\n",
    "    print(f'Serving {driver} now')"
   ]
  },
  {
   "cell_type": "code",
   "execution_count": 54,
   "metadata": {},
   "outputs": [
    {
     "name": "stdout",
     "output_type": "stream",
     "text": [
      "The current sentence is: Hello and welcome to class, everyone!\n",
      "The sentence is now: Hello.\n"
     ]
    }
   ],
   "source": [
    "# Stack - Last In First Out (LIFO)\n",
    "# Think of a stack of papers where you take from the top of the pile\n",
    "\n",
    "# Useful in situations where you need to look at the last thing you did, like undo in a document\n",
    "sentence = ''\n",
    "editing_history = []\n",
    "\n",
    "def edit_sentence(new_text):\n",
    "    global sentence\n",
    "    sentence = new_text\n",
    "    editing_history.append(new_text)\n",
    "    \n",
    "edit_sentence('Hello.')\n",
    "edit_sentence('Hello and welcome to class!')\n",
    "edit_sentence('Hello and welcome to class, everyone!')\n",
    "\n",
    "print(f'The current sentence is: {sentence}')\n",
    "\n",
    "# Let's implement undo.\n",
    "def undo(edits_to_undo=0):\n",
    "    global sentence\n",
    "    while edits_to_undo > 0:\n",
    "        edits_to_undo -= 1\n",
    "        sentence = editing_history.pop()\n",
    "    \n",
    "# And let's undo 3 of our changes\n",
    "undo(3)\n",
    "print(f'The sentence is now: {sentence}')"
   ]
  },
  {
   "cell_type": "markdown",
   "metadata": {},
   "source": [
    "   # Packing and Unpacking Dicts"
   ]
  },
  {
   "cell_type": "code",
   "execution_count": 55,
   "metadata": {},
   "outputs": [],
   "source": [
    "students = ['Alec', 'James', 'Kelly', 'Nina']\n",
    "\n",
    "def print_python_students(starting_at=0, limit=1):\n",
    "    print(students[starting_at:limit])"
   ]
  },
  {
   "cell_type": "code",
   "execution_count": 56,
   "metadata": {},
   "outputs": [
    {
     "name": "stdout",
     "output_type": "stream",
     "text": [
      "['Alec']\n",
      "\n",
      "['Alec']\n"
     ]
    }
   ],
   "source": [
    "# Packing - \"Pulling multiple keys and their values of out of a dictionary to feed them to a function.\"\n",
    "\n",
    "# What if we don't know whether starting_at or limit is set?\n",
    "starting_at = None\n",
    "limit = 1\n",
    "\n",
    "if starting_at:\n",
    "    if limit:\n",
    "        print_python_students(starting_at=starting_at, limit=limit)\n",
    "    else:\n",
    "        print_python_students(starting_at=starting_at)\n",
    "else:\n",
    "    if limit:\n",
    "        print_python_students(limit=limit)\n",
    "    else:\n",
    "        print_python_students()\n",
    "\n",
    "print()\n",
    "\n",
    "# OR...\n",
    "settings = {}\n",
    "if starting_at: settings['starting_at'] = starting_at\n",
    "if limit: settings['limit'] = limit\n",
    "print_python_students(**settings)\n",
    "\n",
    "# Both ways return the same thing, but one is much cleaner"
   ]
  },
  {
   "cell_type": "code",
   "execution_count": 57,
   "metadata": {},
   "outputs": [
    {
     "name": "stdout",
     "output_type": "stream",
     "text": [
      "About to call make_http_request with values url=http://google.com, method=GET\n",
      "Calling http://google.com with method GET\n",
      "\n",
      "About to call make_http_request with values url=http://google.com, method=GET\n",
      "Calling http://google.com with method GET\n"
     ]
    }
   ],
   "source": [
    "# Unpacking - \"Putting multiple keyword arguments into a single dictionary.\"\n",
    "\n",
    "# Passing along arguments to another function without having to know what they are\n",
    "\n",
    "def make_http_request(url, method):\n",
    "    print(f'Calling {url} with method {method}')\n",
    "    \n",
    "def log_http_request(url, method):\n",
    "    print(f'About to call make_http_request with values url={url}, method={method}')\n",
    "    make_http_request(url, method)\n",
    "    \n",
    "def log_http_request_with_kwargs(**kwargs):\n",
    "    print(f'About to call make_http_request with values {\", \".join(\"=\".join((str(k),str(v))) for k,v in kwargs.items())}')\n",
    "    make_http_request(**kwargs)\n",
    "    \n",
    "log_http_request(url='http://google.com', method='GET')\n",
    "print()\n",
    "log_http_request_with_kwargs(url='http://google.com', method='GET')"
   ]
  },
  {
   "cell_type": "markdown",
   "metadata": {},
   "source": [
    "# List Comprehensions"
   ]
  },
  {
   "cell_type": "code",
   "execution_count": 58,
   "metadata": {},
   "outputs": [
    {
     "name": "stdout",
     "output_type": "stream",
     "text": [
      "Models from get_models function: ['Accord', 'Impala']\n",
      "Models from list_comprension: ['Accord', 'Impala']\n",
      "\n",
      "\"A\" models from list_comprension: ['Accord']\n"
     ]
    }
   ],
   "source": [
    "# List comprensions are ways to turn iterables into lists without having to write a function\n",
    "\n",
    "# Let's say you have a couple of objects in a list represented by dicts:\n",
    "cars = [\n",
    "    {'make': 'Honda', 'model': 'Accord'},\n",
    "    {'make': 'Chevy', 'model': 'Impala'},\n",
    "]\n",
    "\n",
    "# And you want a list of just the models -- how would you do it?\n",
    "\n",
    "# One way -- write a function:\n",
    "def get_models():\n",
    "    models = []\n",
    "    for car in cars:\n",
    "        models.append(car['model'])\n",
    "    return models\n",
    "\n",
    "models = get_models()\n",
    "print(f'Models from get_models function: {models}')\n",
    "\n",
    "# List comprension\n",
    "models = [car['model'] for car in cars]\n",
    "print(f'Models from list_comprension: {models}')\n",
    "\n",
    "print()\n",
    "# You can also use if logic in list comprensions:\n",
    "models = [car['model'] for car in cars if car['model'].startswith('A')]\n",
    "print(f'\"A\" models from list_comprension: {models}')"
   ]
  }
 ],
 "metadata": {
  "kernelspec": {
   "display_name": "Python 3",
   "language": "python",
   "name": "python3"
  },
  "language_info": {
   "codemirror_mode": {
    "name": "ipython",
    "version": 3
   },
   "file_extension": ".py",
   "mimetype": "text/x-python",
   "name": "python",
   "nbconvert_exporter": "python",
   "pygments_lexer": "ipython3",
   "version": "3.7.3"
  }
 },
 "nbformat": 4,
 "nbformat_minor": 2
}
